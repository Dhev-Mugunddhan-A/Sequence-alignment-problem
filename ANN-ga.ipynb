{
  "cells": [
    {
      "cell_type": "markdown",
      "metadata": {
        "id": "BDfFURI7wuPe"
      },
      "source": [
        "Preparing the data"
      ]
    },
    {
      "cell_type": "code",
      "execution_count": 66,
      "metadata": {
        "id": "FD-WwjTDwxoZ"
      },
      "outputs": [],
      "source": [
        "import pandas as pd\n",
        "import numpy as np\n",
        "import random"
      ]
    },
    {
      "cell_type": "code",
      "execution_count": 67,
      "metadata": {
        "id": "TuJqnW8aw_LG"
      },
      "outputs": [],
      "source": [
        "df = pd.read_csv(r'Bank_Personal_Loan_Modelling.csv')"
      ]
    },
    {
      "cell_type": "code",
      "execution_count": 68,
      "metadata": {
        "colab": {
          "base_uri": "https://localhost:8080/"
        },
        "id": "66q2NUKfxINr",
        "outputId": "079b4a4b-d1e5-4a87-b6e3-38cba5ff8702"
      },
      "outputs": [
        {
          "name": "stdout",
          "output_type": "stream",
          "text": [
            "<class 'pandas.core.frame.DataFrame'>\n",
            "RangeIndex: 5000 entries, 0 to 4999\n",
            "Data columns (total 14 columns):\n",
            " #   Column              Non-Null Count  Dtype  \n",
            "---  ------              --------------  -----  \n",
            " 0   ID                  5000 non-null   int64  \n",
            " 1   Age                 5000 non-null   int64  \n",
            " 2   Experience          5000 non-null   int64  \n",
            " 3   Income              5000 non-null   int64  \n",
            " 4   ZIP Code            5000 non-null   int64  \n",
            " 5   Family              5000 non-null   int64  \n",
            " 6   CCAvg               5000 non-null   float64\n",
            " 7   Education           5000 non-null   int64  \n",
            " 8   Mortgage            5000 non-null   int64  \n",
            " 9   Personal Loan       5000 non-null   int64  \n",
            " 10  Securities Account  5000 non-null   int64  \n",
            " 11  CD Account          5000 non-null   int64  \n",
            " 12  Online              5000 non-null   int64  \n",
            " 13  CreditCard          5000 non-null   int64  \n",
            "dtypes: float64(1), int64(13)\n",
            "memory usage: 547.0 KB\n"
          ]
        }
      ],
      "source": [
        "df.info()"
      ]
    },
    {
      "cell_type": "code",
      "execution_count": 69,
      "metadata": {
        "colab": {
          "base_uri": "https://localhost:8080/",
          "height": 250
        },
        "id": "E035jOSYxUw0",
        "outputId": "1efcdcf5-cf3a-4582-de13-cb9ff3660df0"
      },
      "outputs": [
        {
          "data": {
            "text/html": [
              "<div>\n",
              "<style scoped>\n",
              "    .dataframe tbody tr th:only-of-type {\n",
              "        vertical-align: middle;\n",
              "    }\n",
              "\n",
              "    .dataframe tbody tr th {\n",
              "        vertical-align: top;\n",
              "    }\n",
              "\n",
              "    .dataframe thead th {\n",
              "        text-align: right;\n",
              "    }\n",
              "</style>\n",
              "<table border=\"1\" class=\"dataframe\">\n",
              "  <thead>\n",
              "    <tr style=\"text-align: right;\">\n",
              "      <th></th>\n",
              "      <th>ID</th>\n",
              "      <th>Age</th>\n",
              "      <th>Experience</th>\n",
              "      <th>Income</th>\n",
              "      <th>ZIP Code</th>\n",
              "      <th>Family</th>\n",
              "      <th>CCAvg</th>\n",
              "      <th>Education</th>\n",
              "      <th>Mortgage</th>\n",
              "      <th>Personal Loan</th>\n",
              "      <th>Securities Account</th>\n",
              "      <th>CD Account</th>\n",
              "      <th>Online</th>\n",
              "      <th>CreditCard</th>\n",
              "    </tr>\n",
              "  </thead>\n",
              "  <tbody>\n",
              "    <tr>\n",
              "      <th>0</th>\n",
              "      <td>1</td>\n",
              "      <td>25</td>\n",
              "      <td>1</td>\n",
              "      <td>49</td>\n",
              "      <td>91107</td>\n",
              "      <td>4</td>\n",
              "      <td>1.6</td>\n",
              "      <td>1</td>\n",
              "      <td>0</td>\n",
              "      <td>0</td>\n",
              "      <td>1</td>\n",
              "      <td>0</td>\n",
              "      <td>0</td>\n",
              "      <td>0</td>\n",
              "    </tr>\n",
              "    <tr>\n",
              "      <th>1</th>\n",
              "      <td>2</td>\n",
              "      <td>45</td>\n",
              "      <td>19</td>\n",
              "      <td>34</td>\n",
              "      <td>90089</td>\n",
              "      <td>3</td>\n",
              "      <td>1.5</td>\n",
              "      <td>1</td>\n",
              "      <td>0</td>\n",
              "      <td>0</td>\n",
              "      <td>1</td>\n",
              "      <td>0</td>\n",
              "      <td>0</td>\n",
              "      <td>0</td>\n",
              "    </tr>\n",
              "    <tr>\n",
              "      <th>2</th>\n",
              "      <td>3</td>\n",
              "      <td>39</td>\n",
              "      <td>15</td>\n",
              "      <td>11</td>\n",
              "      <td>94720</td>\n",
              "      <td>1</td>\n",
              "      <td>1.0</td>\n",
              "      <td>1</td>\n",
              "      <td>0</td>\n",
              "      <td>0</td>\n",
              "      <td>0</td>\n",
              "      <td>0</td>\n",
              "      <td>0</td>\n",
              "      <td>0</td>\n",
              "    </tr>\n",
              "    <tr>\n",
              "      <th>3</th>\n",
              "      <td>4</td>\n",
              "      <td>35</td>\n",
              "      <td>9</td>\n",
              "      <td>100</td>\n",
              "      <td>94112</td>\n",
              "      <td>1</td>\n",
              "      <td>2.7</td>\n",
              "      <td>2</td>\n",
              "      <td>0</td>\n",
              "      <td>0</td>\n",
              "      <td>0</td>\n",
              "      <td>0</td>\n",
              "      <td>0</td>\n",
              "      <td>0</td>\n",
              "    </tr>\n",
              "    <tr>\n",
              "      <th>4</th>\n",
              "      <td>5</td>\n",
              "      <td>35</td>\n",
              "      <td>8</td>\n",
              "      <td>45</td>\n",
              "      <td>91330</td>\n",
              "      <td>4</td>\n",
              "      <td>1.0</td>\n",
              "      <td>2</td>\n",
              "      <td>0</td>\n",
              "      <td>0</td>\n",
              "      <td>0</td>\n",
              "      <td>0</td>\n",
              "      <td>0</td>\n",
              "      <td>1</td>\n",
              "    </tr>\n",
              "  </tbody>\n",
              "</table>\n",
              "</div>"
            ],
            "text/plain": [
              "   ID  Age  Experience  Income  ZIP Code  Family  CCAvg  Education  Mortgage   \n",
              "0   1   25           1      49     91107       4    1.6          1         0  \\\n",
              "1   2   45          19      34     90089       3    1.5          1         0   \n",
              "2   3   39          15      11     94720       1    1.0          1         0   \n",
              "3   4   35           9     100     94112       1    2.7          2         0   \n",
              "4   5   35           8      45     91330       4    1.0          2         0   \n",
              "\n",
              "   Personal Loan  Securities Account  CD Account  Online  CreditCard  \n",
              "0              0                   1           0       0           0  \n",
              "1              0                   1           0       0           0  \n",
              "2              0                   0           0       0           0  \n",
              "3              0                   0           0       0           0  \n",
              "4              0                   0           0       0           1  "
            ]
          },
          "execution_count": 69,
          "metadata": {},
          "output_type": "execute_result"
        }
      ],
      "source": [
        "df.head()"
      ]
    },
    {
      "cell_type": "code",
      "execution_count": 70,
      "metadata": {
        "id": "U5usY-CezjRJ"
      },
      "outputs": [],
      "source": [
        "df=df.drop(['ID'],axis=1)"
      ]
    },
    {
      "cell_type": "code",
      "execution_count": 71,
      "metadata": {
        "id": "eEuMBPSbz-R8"
      },
      "outputs": [],
      "source": [
        "import matplotlib.pyplot as plt"
      ]
    },
    {
      "cell_type": "code",
      "execution_count": 72,
      "metadata": {
        "colab": {
          "base_uri": "https://localhost:8080/",
          "height": 569
        },
        "id": "_hvOzE_2zu8h",
        "outputId": "685ced1e-c9a3-4a4c-ded4-45efd3d912d1"
      },
      "outputs": [
        {
          "data": {
            "text/plain": [
              "{'whiskers': [<matplotlib.lines.Line2D at 0x1edc8aec590>,\n",
              "  <matplotlib.lines.Line2D at 0x1edcb745690>],\n",
              " 'caps': [<matplotlib.lines.Line2D at 0x1edc8e8d310>,\n",
              "  <matplotlib.lines.Line2D at 0x1edcb647150>],\n",
              " 'boxes': [<matplotlib.lines.Line2D at 0x1edc38de910>],\n",
              " 'medians': [<matplotlib.lines.Line2D at 0x1edcb643f10>],\n",
              " 'fliers': [<matplotlib.lines.Line2D at 0x1edcb640190>],\n",
              " 'means': []}"
            ]
          },
          "execution_count": 72,
          "metadata": {},
          "output_type": "execute_result"
        },
        {
          "data": {
            "image/png": "[encoded data removed]",
            "text/plain": [
              "<Figure size 640x480 with 1 Axes>"
            ]
          },
          "metadata": {},
          "output_type": "display_data"
        }
      ],
      "source": [
        "plt.boxplot(df['Income'])"
      ]
    },
    {
      "cell_type": "code",
      "execution_count": 73,
      "metadata": {
        "id": "EanKj8Vbz6ts"
      },
      "outputs": [],
      "source": [
        "inc_index = df[df['Income']>160].index"
      ]
    },
    {
      "cell_type": "code",
      "execution_count": 74,
      "metadata": {
        "id": "wOqFYix20Q1o"
      },
      "outputs": [],
      "source": [
        "df = df.drop(inc_index)"
      ]
    },
    {
      "cell_type": "code",
      "execution_count": 75,
      "metadata": {
        "colab": {
          "base_uri": "https://localhost:8080/",
          "height": 569
        },
        "id": "dh3OImKG0URS",
        "outputId": "ba48f303-dc60-48a2-c84f-3994e9d55f7e"
      },
      "outputs": [
        {
          "data": {
            "text/plain": [
              "{'whiskers': [<matplotlib.lines.Line2D at 0x1edcb88b210>,\n",
              "  <matplotlib.lines.Line2D at 0x1edcb98a910>],\n",
              " 'caps': [<matplotlib.lines.Line2D at 0x1edcb98b250>,\n",
              "  <matplotlib.lines.Line2D at 0x1edcb98bb90>],\n",
              " 'boxes': [<matplotlib.lines.Line2D at 0x1edcb989910>],\n",
              " 'medians': [<matplotlib.lines.Line2D at 0x1edcb994450>],\n",
              " 'fliers': [<matplotlib.lines.Line2D at 0x1edcb98a8d0>],\n",
              " 'means': []}"
            ]
          },
          "execution_count": 75,
          "metadata": {},
          "output_type": "execute_result"
        },
        {
          "data": {
            "image/png": "[encoded data removed]",
            "text/plain": [
              "<Figure size 640x480 with 1 Axes>"
            ]
          },
          "metadata": {},
          "output_type": "display_data"
        }
      ],
      "source": [
        "plt.boxplot(df['Income'])"
      ]
    },
    {
      "cell_type": "code",
      "execution_count": 76,
      "metadata": {
        "id": "hoj7kRND0sVZ"
      },
      "outputs": [],
      "source": [
        "\n",
        "df_input = df.drop(['Personal Loan'],axis=1)"
      ]
    },
    {
      "cell_type": "code",
      "execution_count": 77,
      "metadata": {
        "colab": {
          "base_uri": "https://localhost:8080/"
        },
        "id": "D2xPOLGYuB1N",
        "outputId": "98990649-6005-4c90-d4f6-ebcb18fc37eb"
      },
      "outputs": [
        {
          "data": {
            "text/plain": [
              "Index(['Age', 'Experience', 'Income', 'ZIP Code', 'Family', 'CCAvg',\n",
              "       'Education', 'Mortgage', 'Securities Account', 'CD Account', 'Online',\n",
              "       'CreditCard'],\n",
              "      dtype='object')"
            ]
          },
          "execution_count": 77,
          "metadata": {},
          "output_type": "execute_result"
        }
      ],
      "source": [
        "df_input.columns"
      ]
    },
    {
      "cell_type": "code",
      "execution_count": 78,
      "metadata": {
        "id": "lCQMVzY71qRq"
      },
      "outputs": [],
      "source": [
        "from sklearn.model_selection import train_test_split"
      ]
    },
    {
      "cell_type": "code",
      "execution_count": 79,
      "metadata": {
        "id": "0rDNbUYo1zFN"
      },
      "outputs": [],
      "source": [
        "X_train,X_test,Y_train,Y_test = train_test_split(df_input.values,df['Personal Loan'].values,test_size=0.25,random_state=46,stratify=df['Personal Loan'])"
      ]
    },
    {
      "cell_type": "code",
      "execution_count": 80,
      "metadata": {
        "id": "oMN5i8ojtlkb"
      },
      "outputs": [],
      "source": [
        "from sklearn.preprocessing import StandardScaler"
      ]
    },
    {
      "cell_type": "code",
      "execution_count": 81,
      "metadata": {
        "id": "gRE-RHTqZvqV"
      },
      "outputs": [],
      "source": [
        "sc=StandardScaler()"
      ]
    },
    {
      "cell_type": "code",
      "execution_count": 82,
      "metadata": {
        "id": "1FSsuyc3CUPk"
      },
      "outputs": [],
      "source": [
        "X_train=sc.fit_transform(X_train)\n",
        "X_test=sc.transform(X_test)"
      ]
    },
    {
      "cell_type": "code",
      "execution_count": 83,
      "metadata": {
        "id": "avQOlUjW_a-z"
      },
      "outputs": [],
      "source": [
        "import tensorflow as tf"
      ]
    },
    {
      "cell_type": "code",
      "execution_count": 84,
      "metadata": {
        "colab": {
          "base_uri": "https://localhost:8080/"
        },
        "id": "vK8ItTv4A1Ck",
        "outputId": "a1ff25a3-3047-4da3-8d74-f94ff3a78f46"
      },
      "outputs": [
        {
          "data": {
            "text/plain": [
              "(3498, 12)"
            ]
          },
          "execution_count": 84,
          "metadata": {},
          "output_type": "execute_result"
        }
      ],
      "source": [
        "X_train.shape"
      ]
    },
    {
      "cell_type": "code",
      "execution_count": 85,
      "metadata": {
        "id": "hxHKjqa1_k-R"
      },
      "outputs": [],
      "source": [
        "model = tf.keras.models.Sequential([tf.keras.layers.Dense(12, activation='relu',name='firstlayer'),\n",
        "  tf.keras.layers.Dense(1,activation='sigmoid',name='secondlayer')])"
      ]
    },
    {
      "cell_type": "code",
      "execution_count": 86,
      "metadata": {
        "id": "aDKRtx3vBFrX"
      },
      "outputs": [],
      "source": [
        "output = model(X_train)"
      ]
    },
    {
      "cell_type": "code",
      "execution_count": 87,
      "metadata": {
        "id": "HEbIGaZFPLlU"
      },
      "outputs": [],
      "source": [
        "from sklearn.preprocessing import LabelEncoder"
      ]
    },
    {
      "cell_type": "code",
      "execution_count": 88,
      "metadata": {
        "id": "6Xz1lccfPcuW"
      },
      "outputs": [],
      "source": [
        "lc = LabelEncoder()"
      ]
    },
    {
      "cell_type": "code",
      "execution_count": 89,
      "metadata": {
        "id": "TOmd-oxzBPWq"
      },
      "outputs": [],
      "source": [
        "ini_pred  =lc.fit_transform(output.numpy().flatten()>0.5) "
      ]
    },
    {
      "cell_type": "code",
      "execution_count": 90,
      "metadata": {
        "id": "PQymqy8gPsEC"
      },
      "outputs": [],
      "source": [
        "from sklearn.metrics import accuracy_score"
      ]
    },
    {
      "cell_type": "code",
      "execution_count": 91,
      "metadata": {
        "colab": {
          "base_uri": "https://localhost:8080/"
        },
        "id": "zljotY0HQtDC",
        "outputId": "6e20d5b0-ebff-492e-ac1d-855994d1bab7"
      },
      "outputs": [
        {
          "data": {
            "text/plain": [
              "0.7990280160091481"
            ]
          },
          "execution_count": 91,
          "metadata": {},
          "output_type": "execute_result"
        }
      ],
      "source": [
        "accuracy_score(Y_train,ini_pred)"
      ]
    },
    {
      "cell_type": "code",
      "execution_count": 92,
      "metadata": {
        "colab": {
          "base_uri": "https://localhost:8080/"
        },
        "id": "6eoJK0p1USzJ",
        "outputId": "874bb094-af96-4ef7-9f5a-be1ce19b92f4"
      },
      "outputs": [
        {
          "data": {
            "text/plain": [
              "[array([[-2.84104347e-02,  4.02028918e-01,  5.23345470e-02,\n",
              "         -2.87117481e-01,  2.63757706e-02,  2.03542233e-01,\n",
              "          1.21447563e-01, -3.53081346e-01, -1.25306368e-01,\n",
              "         -4.87722039e-01, -2.71541238e-01,  4.69984531e-01],\n",
              "        [-4.22300696e-01, -1.74515367e-01,  4.05227542e-01,\n",
              "          4.55911279e-01, -4.96150851e-01, -3.97602320e-02,\n",
              "         -4.78805423e-01,  5.49052954e-02,  4.05265450e-01,\n",
              "          4.47927713e-01, -2.34350562e-01,  1.06259823e-01],\n",
              "        [ 1.68673396e-01,  2.28660583e-01,  4.90100741e-01,\n",
              "          1.90234303e-01,  4.45242524e-01, -4.81512547e-01,\n",
              "         -3.03497434e-01, -1.78595304e-01, -3.34817648e-01,\n",
              "         -2.38621354e-01,  2.04425097e-01,  4.34693098e-02],\n",
              "        [ 2.33751535e-02,  3.25212002e-01,  1.81410074e-01,\n",
              "          9.39226151e-03, -1.63286090e-01,  1.53562903e-01,\n",
              "          1.67292118e-01, -2.11609483e-01,  1.46405101e-01,\n",
              "         -2.60876536e-01,  8.16893578e-03, -2.63705730e-01],\n",
              "        [-2.68244624e-01,  1.21020317e-01, -2.63971329e-01,\n",
              "          3.51722360e-01,  1.09434128e-02,  4.16318297e-01,\n",
              "         -2.23747015e-01, -1.40292645e-01, -1.06465697e-01,\n",
              "         -2.84399390e-01,  4.13372040e-01,  5.67827225e-02],\n",
              "        [-3.73594880e-01,  1.35771990e-01,  3.61110449e-01,\n",
              "          4.06617284e-01,  3.05997252e-01,  4.11496639e-01,\n",
              "          3.50253701e-01, -3.93623114e-02,  1.63400888e-01,\n",
              "          2.04429030e-01, -2.08119631e-01,  2.84655094e-01],\n",
              "        [ 2.06561089e-01,  2.20064044e-01, -4.85680223e-01,\n",
              "          1.21189356e-01, -3.75061512e-01,  4.21435118e-01,\n",
              "         -3.67325306e-01,  2.01178789e-01, -4.77220058e-01,\n",
              "          8.72814655e-02, -1.63601518e-01, -1.72804356e-01],\n",
              "        [ 2.98269272e-01, -3.92470121e-01,  2.65332103e-01,\n",
              "         -4.26016808e-01, -3.03745270e-04, -2.55627751e-01,\n",
              "         -3.59648705e-01,  4.23984528e-02,  4.64241505e-01,\n",
              "         -2.03336716e-01, -3.06905031e-01, -3.69454384e-01],\n",
              "        [-6.28333092e-02, -2.96545982e-01, -4.88011360e-01,\n",
              "         -2.36810803e-01, -1.31986022e-01,  4.55667377e-01,\n",
              "         -4.69915748e-01,  3.31306934e-01, -4.87907887e-01,\n",
              "          4.36465144e-01, -3.66896391e-01, -1.23858690e-01],\n",
              "        [ 1.39971733e-01, -4.86242294e-01, -4.71255779e-01,\n",
              "          3.57851505e-01,  1.57916665e-01,  1.67570472e-01,\n",
              "         -4.58463788e-01,  3.63514781e-01, -1.58394217e-01,\n",
              "         -3.55904102e-02, -3.03408265e-01, -8.14418793e-02],\n",
              "        [-1.83233976e-01,  2.05613375e-01,  2.42805004e-01,\n",
              "         -1.70031548e-01, -3.26138258e-01, -1.08167529e-01,\n",
              "         -3.57952833e-01,  1.35835409e-01,  3.49719524e-02,\n",
              "         -2.60418415e-01,  1.50433183e-01,  4.58645821e-01],\n",
              "        [-9.12436247e-02,  3.62419248e-01, -1.22063518e-01,\n",
              "         -5.48219681e-02,  1.09097362e-01,  1.48943543e-01,\n",
              "          5.20966053e-02,  4.88433123e-01,  1.92557216e-01,\n",
              "         -3.72270942e-01,  4.55130458e-01, -1.18442178e-01]], dtype=float32),\n",
              " array([0., 0., 0., 0., 0., 0., 0., 0., 0., 0., 0., 0.], dtype=float32)]"
            ]
          },
          "execution_count": 92,
          "metadata": {},
          "output_type": "execute_result"
        }
      ],
      "source": [
        "model.layers[0].get_weights()\n",
        "#model.set_weights([weights])"
      ]
    },
    {
      "cell_type": "code",
      "execution_count": 93,
      "metadata": {
        "colab": {
          "base_uri": "https://localhost:8080/"
        },
        "id": "cH-wL4Kf_yxZ",
        "outputId": "ddcb9776-fc42-4b70-8909-ae48104e6fbf"
      },
      "outputs": [
        {
          "data": {
            "text/plain": [
              "[array([[-2.84104347e-02,  4.02028918e-01,  5.23345470e-02,\n",
              "         -2.87117481e-01,  2.63757706e-02,  2.03542233e-01,\n",
              "          1.21447563e-01, -3.53081346e-01, -1.25306368e-01,\n",
              "         -4.87722039e-01, -2.71541238e-01,  4.69984531e-01],\n",
              "        [-4.22300696e-01, -1.74515367e-01,  4.05227542e-01,\n",
              "          4.55911279e-01, -4.96150851e-01, -3.97602320e-02,\n",
              "         -4.78805423e-01,  5.49052954e-02,  4.05265450e-01,\n",
              "          4.47927713e-01, -2.34350562e-01,  1.06259823e-01],\n",
              "        [ 1.68673396e-01,  2.28660583e-01,  4.90100741e-01,\n",
              "          1.90234303e-01,  4.45242524e-01, -4.81512547e-01,\n",
              "         -3.03497434e-01, -1.78595304e-01, -3.34817648e-01,\n",
              "         -2.38621354e-01,  2.04425097e-01,  4.34693098e-02],\n",
              "        [ 2.33751535e-02,  3.25212002e-01,  1.81410074e-01,\n",
              "          9.39226151e-03, -1.63286090e-01,  1.53562903e-01,\n",
              "          1.67292118e-01, -2.11609483e-01,  1.46405101e-01,\n",
              "         -2.60876536e-01,  8.16893578e-03, -2.63705730e-01],\n",
              "        [-2.68244624e-01,  1.21020317e-01, -2.63971329e-01,\n",
              "          3.51722360e-01,  1.09434128e-02,  4.16318297e-01,\n",
              "         -2.23747015e-01, -1.40292645e-01, -1.06465697e-01,\n",
              "         -2.84399390e-01,  4.13372040e-01,  5.67827225e-02],\n",
              "        [-3.73594880e-01,  1.35771990e-01,  3.61110449e-01,\n",
              "          4.06617284e-01,  3.05997252e-01,  4.11496639e-01,\n",
              "          3.50253701e-01, -3.93623114e-02,  1.63400888e-01,\n",
              "          2.04429030e-01, -2.08119631e-01,  2.84655094e-01],\n",
              "        [ 2.06561089e-01,  2.20064044e-01, -4.85680223e-01,\n",
              "          1.21189356e-01, -3.75061512e-01,  4.21435118e-01,\n",
              "         -3.67325306e-01,  2.01178789e-01, -4.77220058e-01,\n",
              "          8.72814655e-02, -1.63601518e-01, -1.72804356e-01],\n",
              "        [ 2.98269272e-01, -3.92470121e-01,  2.65332103e-01,\n",
              "         -4.26016808e-01, -3.03745270e-04, -2.55627751e-01,\n",
              "         -3.59648705e-01,  4.23984528e-02,  4.64241505e-01,\n",
              "         -2.03336716e-01, -3.06905031e-01, -3.69454384e-01],\n",
              "        [-6.28333092e-02, -2.96545982e-01, -4.88011360e-01,\n",
              "         -2.36810803e-01, -1.31986022e-01,  4.55667377e-01,\n",
              "         -4.69915748e-01,  3.31306934e-01, -4.87907887e-01,\n",
              "          4.36465144e-01, -3.66896391e-01, -1.23858690e-01],\n",
              "        [ 1.39971733e-01, -4.86242294e-01, -4.71255779e-01,\n",
              "          3.57851505e-01,  1.57916665e-01,  1.67570472e-01,\n",
              "         -4.58463788e-01,  3.63514781e-01, -1.58394217e-01,\n",
              "         -3.55904102e-02, -3.03408265e-01, -8.14418793e-02],\n",
              "        [-1.83233976e-01,  2.05613375e-01,  2.42805004e-01,\n",
              "         -1.70031548e-01, -3.26138258e-01, -1.08167529e-01,\n",
              "         -3.57952833e-01,  1.35835409e-01,  3.49719524e-02,\n",
              "         -2.60418415e-01,  1.50433183e-01,  4.58645821e-01],\n",
              "        [-9.12436247e-02,  3.62419248e-01, -1.22063518e-01,\n",
              "         -5.48219681e-02,  1.09097362e-01,  1.48943543e-01,\n",
              "          5.20966053e-02,  4.88433123e-01,  1.92557216e-01,\n",
              "         -3.72270942e-01,  4.55130458e-01, -1.18442178e-01]], dtype=float32),\n",
              " array([0., 0., 0., 0., 0., 0., 0., 0., 0., 0., 0., 0.], dtype=float32),\n",
              " array([[ 0.01104462],\n",
              "        [-0.26940426],\n",
              "        [ 0.22063321],\n",
              "        [-0.5929114 ],\n",
              "        [-0.29798952],\n",
              "        [ 0.08956653],\n",
              "        [ 0.03490984],\n",
              "        [-0.25697878],\n",
              "        [-0.38037702],\n",
              "        [-0.24967119],\n",
              "        [-0.04051733],\n",
              "        [ 0.36621404]], dtype=float32),\n",
              " array([0.], dtype=float32)]"
            ]
          },
          "execution_count": 93,
          "metadata": {},
          "output_type": "execute_result"
        }
      ],
      "source": [
        "model.get_weights()"
      ]
    },
    {
      "cell_type": "code",
      "execution_count": 94,
      "metadata": {
        "colab": {
          "base_uri": "https://localhost:8080/"
        },
        "id": "udPR4qLoGJbP",
        "outputId": "de9f390c-e8db-40ef-9e82-a6f09886dfa7"
      },
      "outputs": [
        {
          "name": "stdout",
          "output_type": "stream",
          "text": [
            "37/37 [==============================] - 0s 4ms/step\n"
          ]
        }
      ],
      "source": [
        "pred = model.predict(X_test) >=0.5"
      ]
    },
    {
      "cell_type": "code",
      "execution_count": 95,
      "metadata": {
        "id": "q3JTfkGaGm9t"
      },
      "outputs": [],
      "source": [
        "pred = lc.fit_transform(pred.flatten())"
      ]
    },
    {
      "cell_type": "code",
      "execution_count": 96,
      "metadata": {
        "colab": {
          "base_uri": "https://localhost:8080/"
        },
        "id": "JUIUKaAzGSw7",
        "outputId": "325a9669-dc2b-4e4d-d670-784ae09ff850"
      },
      "outputs": [
        {
          "data": {
            "text/plain": [
              "0.8097686375321337"
            ]
          },
          "execution_count": 96,
          "metadata": {},
          "output_type": "execute_result"
        }
      ],
      "source": [
        "accuracy_score(Y_test,pred)"
      ]
    },
    {
      "cell_type": "code",
      "execution_count": 97,
      "metadata": {
        "id": "BvCGM-weH0WW"
      },
      "outputs": [],
      "source": [
        "model_ga=tf.keras.Sequential([tf.keras.layers.Dense(12, activation='relu',name='firstlayer'),\n",
        "  tf.keras.layers.Dense(1,activation='sigmoid',name='secondlayer')])"
      ]
    },
    {
      "cell_type": "code",
      "execution_count": 98,
      "metadata": {
        "colab": {
          "base_uri": "https://localhost:8080/"
        },
        "id": "slnRI7tVIPR1",
        "outputId": "3544108d-8c13-4e31-bf57-ba3126f30995"
      },
      "outputs": [
        {
          "data": {
            "text/plain": [
              "<tf.Tensor: shape=(3498, 1), dtype=float32, numpy=\n",
              "array([[0.5671238 ],\n",
              "       [0.22152641],\n",
              "       [0.38526368],\n",
              "       ...,\n",
              "       [0.32648474],\n",
              "       [0.5764875 ],\n",
              "       [0.63725585]], dtype=float32)>"
            ]
          },
          "execution_count": 98,
          "metadata": {},
          "output_type": "execute_result"
        }
      ],
      "source": [
        "model_ga(X_train)"
      ]
    },
    {
      "cell_type": "code",
      "execution_count": 99,
      "metadata": {
        "colab": {
          "base_uri": "https://localhost:8080/"
        },
        "id": "UxAXiWONHc86",
        "outputId": "f98f454e-6890-49ff-9ef0-3db3a9b379de"
      },
      "outputs": [
        {
          "name": "stdout",
          "output_type": "stream",
          "text": [
            "4\n",
            "(12, 12)\n",
            "(12,)\n",
            "(12, 1)\n",
            "(1,)\n"
          ]
        }
      ],
      "source": [
        "print(len(model_ga.get_weights()))\n",
        "print(model_ga.get_weights()[0].shape)\n",
        "print(model_ga.get_weights()[1].shape)\n",
        "print(model_ga.get_weights()[2].shape)\n",
        "print(model_ga.get_weights()[3].shape)"
      ]
    },
    {
      "cell_type": "code",
      "execution_count": 100,
      "metadata": {
        "id": "x2ZJ6_jxIThJ"
      },
      "outputs": [],
      "source": [
        "def conv_lin_weights_nn_weights(weights):\n",
        "    we_list=[]\n",
        "    weights=np.array(weights).flatten()\n",
        "    w1=np.array(weights[:144])\n",
        "    w1=w1.reshape(12,12)\n",
        "    b1=np.array(weights[144:156])\n",
        "    w2=np.array(weights[156:168])\n",
        "    w2=w2.reshape(12,1)\n",
        "    b2=np.array(weights[168:])\n",
        "    b2=b2.reshape(1)\n",
        "    we_list.append(w1)\n",
        "    we_list.append(b1)\n",
        "    we_list.append(w2)\n",
        "    we_list.append(b2)\n",
        "\n",
        "    return we_list"
      ]
    },
    {
      "cell_type": "code",
      "execution_count": 101,
      "metadata": {
        "id": "sH-i-LaBKtn0"
      },
      "outputs": [],
      "source": [
        "def objective_function(weights,nn):\n",
        "    we=conv_lin_weights_nn_weights(weights)\n",
        "    nn.set_weights(we)\n",
        "    y_pred = nn.predict(X_train)\n",
        "    y_pred = lc.fit_transform(y_pred.flatten() > 0.5)\n",
        "    print('accuracy:',round(accuracy_score(y_pred,Y_train),5)*100)\n",
        "    return accuracy_score(Y_train,y_pred)"
      ]
    },
    {
      "cell_type": "code",
      "execution_count": 102,
      "metadata": {
        "id": "pkQfQjDLK7Dj"
      },
      "outputs": [],
      "source": [
        "class GA:\n",
        "    def __init__(self,pop_size,chromosome_count,fit_thresh,cross_rate,mut_rate,model,max_iter):\n",
        "        self.pop_size=pop_size\n",
        "        self.chromosome_count=chromosome_count\n",
        "        self.fit_thresh=fit_thresh\n",
        "        self.cross_rate=cross_rate\n",
        "        self.mut_rate=mut_rate\n",
        "        self.model=model\n",
        "        self.max_iter=max_iter\n",
        "\n",
        "    def cross(self,c1,c2,prob):\n",
        "        #uniform crossover\n",
        "        \n",
        "        offspring1 = []\n",
        "        offspring2= []\n",
        "        for i in range(len(c1)):\n",
        "            if random.random() < prob:\n",
        "                offspring1.append(c1[i])\n",
        "                offspring2.append(c2[i])\n",
        "            else:\n",
        "                offspring1.append(c2[i])\n",
        "                offspring2.append(c1[i])\n",
        "        return offspring1,offspring2\n",
        "    \n",
        "    def mutation(self,m, prob, sigma):\n",
        "        mu = np.copy(m)\n",
        "        for i in range(len(mu)):\n",
        "            ran=random.random()\n",
        "            if ran < prob:\n",
        "                mu[i] += np.random.normal(loc=0.0, scale=sigma)\n",
        "        return mu\n",
        "\n",
        "    def opti(self,fitness_func):\n",
        "        max_fit=0\n",
        "        max_pop=[]\n",
        "        ini_pop=[]\n",
        "        fit=[]\n",
        "        pop=[]\n",
        "        for i in range(self.pop_size):\n",
        "            ini_pop.append([np.random.uniform(0.0,1.0,size=self.chromosome_count)])\n",
        "        for i in range(self.pop_size):\n",
        "            fit.append(fitness_func(ini_pop[i],self.model))\n",
        "        max_fit=max(fit)\n",
        "        max_pop=ini_pop[np.argmax(fit)]\n",
        "        pop=ini_pop\n",
        "        count=1\n",
        "        if(max_fit < self.fit_thresh):\n",
        "            while(max_fit < self.fit_thresh and count<self.max_iter):\n",
        "                #retain of same pop without alteration (1-r)*pop_size are retained\n",
        "                prob=[]\n",
        "                for i in range(self.pop_size):\n",
        "                    p=fit[i]/sum(fit)\n",
        "                    prob.append([p,i])\n",
        "\n",
        "                prob=sorted(prob,key=lambda x:x[0],reverse=True)\n",
        "                select_ind=[i[1] for i in prob]\n",
        "                si = int((1-self.cross_rate)*self.pop_size)\n",
        "                select_i=select_ind[:si]\n",
        "                pop_n=[pop[i] for i in select_i]\n",
        "\n",
        "                #crossover\n",
        "                pop_c=[pop[i] for i in select_ind[si:]]\n",
        "                c_pop=[]\n",
        "                for i in range(len(pop_c)//2):\n",
        "                    c1,c2=self.cross(pop_c[i],pop_c[-i-1],random.random())\n",
        "                    c_pop.append([c1])\n",
        "                    c_pop.append([c2])\n",
        "                pop_n.extend(c_pop)\n",
        "\n",
        "\n",
        "                #mutuation\n",
        "                for i in range(int(self.mut_rate*self.pop_size)):\n",
        "                    ind=random.randint(0,self.pop_size-1)\n",
        "                    pop_n[ind]=self.mutation(pop_n[ind],random.random(),0.3)\n",
        "\n",
        "                pop=pop_n\n",
        "\n",
        "                #fitness_evaluation\n",
        "                for i in range(self.pop_size):\n",
        "                    f=fitness_func(pop[i],self.model)\n",
        "                    fit.append(f)\n",
        "                    if(f>max_fit):\n",
        "                        max_fit=f\n",
        "                        max_pop=pop[i]\n",
        "\n",
        "                count+=1\n",
        "\n",
        "            return max_pop       \n",
        "        else:\n",
        "            return max_pop\n"
      ]
    },
    {
      "cell_type": "code",
      "execution_count": 103,
      "metadata": {},
      "outputs": [],
      "source": [
        "pop_size=10\n",
        "chromosome_count=169\n",
        "fit_thresh=0.95\n",
        "cross_rate=0.4\n",
        "mut_rate=0.4\n",
        "max_gen=30\n",
        "ga = GA(pop_size,chromosome_count,fit_thresh,cross_rate,mut_rate,model,max_gen)"
      ]
    },
    {
      "cell_type": "code",
      "execution_count": 104,
      "metadata": {},
      "outputs": [
        {
          "name": "stdout",
          "output_type": "stream",
          "text": [
            "110/110 [==============================] - 0s 2ms/step\n",
            "accuracy: 93.482\n",
            "110/110 [==============================] - 0s 4ms/step\n",
            "accuracy: 93.482\n",
            "110/110 [==============================] - 0s 2ms/step\n",
            "accuracy: 93.482\n",
            "110/110 [==============================] - 1s 4ms/step\n",
            "accuracy: 93.482\n",
            "110/110 [==============================] - 0s 1ms/step\n",
            "accuracy: 93.482\n",
            "110/110 [==============================] - 0s 3ms/step\n",
            "accuracy: 93.482\n",
            "110/110 [==============================] - 0s 2ms/step\n",
            "accuracy: 93.482\n",
            "110/110 [==============================] - 0s 1ms/step\n",
            "accuracy: 93.482\n",
            "110/110 [==============================] - 0s 2ms/step\n",
            "accuracy: 93.482\n",
            "110/110 [==============================] - 0s 3ms/step\n",
            "accuracy: 93.482\n",
            "110/110 [==============================] - 0s 1ms/step\n",
            "accuracy: 93.482\n",
            "110/110 [==============================] - 0s 1ms/step\n",
            "accuracy: 93.482\n",
            "110/110 [==============================] - 0s 2ms/step\n",
            "accuracy: 93.482\n",
            "110/110 [==============================] - 0s 2ms/step\n",
            "accuracy: 93.482\n",
            "110/110 [==============================] - 0s 2ms/step\n",
            "accuracy: 93.482\n",
            "110/110 [==============================] - 0s 2ms/step\n",
            "accuracy: 93.482\n",
            "110/110 [==============================] - 0s 1ms/step\n",
            "accuracy: 93.482\n",
            "110/110 [==============================] - 0s 2ms/step\n",
            "accuracy: 93.482\n",
            "110/110 [==============================] - 0s 2ms/step\n",
            "accuracy: 93.482\n",
            "110/110 [==============================] - 0s 2ms/step\n",
            "accuracy: 93.482\n",
            "110/110 [==============================] - 0s 2ms/step\n",
            "accuracy: 93.482\n",
            "110/110 [==============================] - 0s 2ms/step\n",
            "accuracy: 93.482\n",
            "110/110 [==============================] - 0s 2ms/step\n",
            "accuracy: 93.482\n",
            "110/110 [==============================] - 0s 1ms/step\n",
            "accuracy: 93.482\n",
            "110/110 [==============================] - 0s 2ms/step\n",
            "accuracy: 75.786\n",
            "110/110 [==============================] - 0s 1ms/step\n",
            "accuracy: 93.482\n",
            "110/110 [==============================] - 1s 5ms/step\n",
            "accuracy: 93.482\n",
            "110/110 [==============================] - 0s 1ms/step\n",
            "accuracy: 93.482\n",
            "110/110 [==============================] - 0s 1ms/step\n",
            "accuracy: 93.482\n",
            "110/110 [==============================] - 0s 4ms/step\n",
            "accuracy: 73.871\n",
            "110/110 [==============================] - 0s 2ms/step\n",
            "accuracy: 93.482\n",
            "110/110 [==============================] - 0s 2ms/step\n",
            "accuracy: 93.482\n",
            "110/110 [==============================] - 0s 1ms/step\n",
            "accuracy: 93.482\n",
            "110/110 [==============================] - 0s 2ms/step\n",
            "accuracy: 93.482\n",
            "110/110 [==============================] - 0s 1ms/step\n",
            "accuracy: 75.786\n",
            "110/110 [==============================] - 0s 1ms/step\n",
            "accuracy: 93.482\n",
            "110/110 [==============================] - 0s 1ms/step\n",
            "accuracy: 93.482\n",
            "110/110 [==============================] - 0s 2ms/step\n",
            "accuracy: 73.871\n",
            "110/110 [==============================] - 0s 2ms/step\n",
            "accuracy: 93.482\n",
            "110/110 [==============================] - 0s 3ms/step\n",
            "accuracy: 93.482\n",
            "110/110 [==============================] - 0s 2ms/step\n",
            "accuracy: 93.482\n",
            "110/110 [==============================] - 0s 1ms/step\n",
            "accuracy: 93.482\n",
            "110/110 [==============================] - 1s 4ms/step\n",
            "accuracy: 93.482\n",
            "110/110 [==============================] - 0s 3ms/step\n",
            "accuracy: 93.482\n",
            "110/110 [==============================] - 0s 2ms/step\n",
            "accuracy: 75.786\n",
            "110/110 [==============================] - 0s 2ms/step\n",
            "accuracy: 93.482\n",
            "110/110 [==============================] - 0s 2ms/step\n",
            "accuracy: 93.482\n",
            "110/110 [==============================] - 0s 3ms/step\n",
            "accuracy: 93.482\n",
            "110/110 [==============================] - 0s 3ms/step\n",
            "accuracy: 93.482\n",
            "110/110 [==============================] - 0s 1ms/step\n",
            "accuracy: 93.482\n",
            "110/110 [==============================] - 0s 3ms/step\n",
            "accuracy: 93.482\n",
            "110/110 [==============================] - 0s 2ms/step\n",
            "accuracy: 93.482\n",
            "110/110 [==============================] - 0s 4ms/step\n",
            "accuracy: 93.482\n",
            "110/110 [==============================] - 0s 3ms/step\n",
            "accuracy: 93.482\n",
            "110/110 [==============================] - 0s 2ms/step\n",
            "accuracy: 75.786\n",
            "110/110 [==============================] - 0s 1ms/step\n",
            "accuracy: 93.482\n",
            "110/110 [==============================] - 0s 1ms/step\n",
            "accuracy: 93.482\n",
            "110/110 [==============================] - 0s 1ms/step\n",
            "accuracy: 93.482\n",
            "110/110 [==============================] - 0s 2ms/step\n",
            "accuracy: 93.482\n",
            "110/110 [==============================] - 0s 1ms/step\n",
            "accuracy: 93.482\n",
            "110/110 [==============================] - 0s 3ms/step\n",
            "accuracy: 93.482\n",
            "110/110 [==============================] - 0s 4ms/step\n",
            "accuracy: 93.482\n",
            "110/110 [==============================] - 0s 3ms/step\n",
            "accuracy: 93.453\n",
            "110/110 [==============================] - 0s 2ms/step\n",
            "accuracy: 93.482\n",
            "110/110 [==============================] - 0s 2ms/step\n",
            "accuracy: 75.786\n",
            "110/110 [==============================] - 0s 2ms/step\n",
            "accuracy: 93.482\n",
            "110/110 [==============================] - 0s 1ms/step\n",
            "accuracy: 93.482\n",
            "110/110 [==============================] - 0s 2ms/step\n",
            "accuracy: 93.482\n",
            "110/110 [==============================] - 0s 1ms/step\n",
            "accuracy: 93.482\n",
            "110/110 [==============================] - 0s 1ms/step\n",
            "accuracy: 93.482\n",
            "110/110 [==============================] - 0s 2ms/step\n",
            "accuracy: 93.482\n",
            "110/110 [==============================] - 0s 3ms/step\n",
            "accuracy: 93.482\n",
            "110/110 [==============================] - 0s 1ms/step\n",
            "accuracy: 93.453\n",
            "110/110 [==============================] - 0s 1ms/step\n",
            "accuracy: 93.482\n",
            "110/110 [==============================] - 0s 1ms/step\n",
            "accuracy: 75.786\n",
            "110/110 [==============================] - 0s 3ms/step\n",
            "accuracy: 93.482\n",
            "110/110 [==============================] - 0s 3ms/step\n",
            "accuracy: 93.482\n",
            "110/110 [==============================] - 0s 3ms/step\n",
            "accuracy: 93.711\n",
            "110/110 [==============================] - 0s 2ms/step\n",
            "accuracy: 93.482\n",
            "110/110 [==============================] - 0s 2ms/step\n",
            "accuracy: 93.482\n",
            "110/110 [==============================] - 0s 2ms/step\n",
            "accuracy: 93.482\n",
            "110/110 [==============================] - 0s 2ms/step\n",
            "accuracy: 93.482\n",
            "110/110 [==============================] - 0s 2ms/step\n",
            "accuracy: 93.453\n",
            "110/110 [==============================] - 0s 2ms/step\n",
            "accuracy: 93.482\n",
            "110/110 [==============================] - 0s 2ms/step\n",
            "accuracy: 75.786\n",
            "110/110 [==============================] - 0s 1ms/step\n",
            "accuracy: 93.482\n",
            "110/110 [==============================] - 0s 3ms/step\n",
            "accuracy: 93.482\n",
            "110/110 [==============================] - 0s 2ms/step\n",
            "accuracy: 93.482\n",
            "110/110 [==============================] - 0s 2ms/step\n",
            "accuracy: 93.482\n",
            "110/110 [==============================] - 0s 2ms/step\n",
            "accuracy: 93.711\n",
            "110/110 [==============================] - 0s 1ms/step\n",
            "accuracy: 6.547\n",
            "110/110 [==============================] - 0s 1ms/step\n",
            "accuracy: 93.482\n",
            "110/110 [==============================] - 0s 2ms/step\n",
            "accuracy: 93.453\n",
            "110/110 [==============================] - 0s 1ms/step\n",
            "accuracy: 93.482\n",
            "110/110 [==============================] - 0s 3ms/step\n",
            "accuracy: 75.786\n",
            "110/110 [==============================] - 0s 4ms/step\n",
            "accuracy: 48.799\n",
            "110/110 [==============================] - 0s 2ms/step\n",
            "accuracy: 93.711\n",
            "110/110 [==============================] - 0s 4ms/step\n",
            "accuracy: 93.482\n",
            "110/110 [==============================] - 0s 2ms/step\n",
            "accuracy: 93.482\n",
            "110/110 [==============================] - 0s 2ms/step\n",
            "accuracy: 93.482\n",
            "110/110 [==============================] - 0s 2ms/step\n",
            "accuracy: 6.547\n",
            "110/110 [==============================] - 0s 2ms/step\n",
            "accuracy: 93.482\n",
            "110/110 [==============================] - 0s 2ms/step\n",
            "accuracy: 93.453\n",
            "110/110 [==============================] - 0s 2ms/step\n",
            "accuracy: 93.482\n",
            "110/110 [==============================] - 0s 1ms/step\n",
            "accuracy: 75.786\n",
            "110/110 [==============================] - 0s 1ms/step\n",
            "accuracy: 6.9750000000000005\n",
            "110/110 [==============================] - 0s 1ms/step\n",
            "accuracy: 93.482\n",
            "110/110 [==============================] - 0s 1ms/step\n",
            "accuracy: 93.711\n",
            "110/110 [==============================] - 0s 1ms/step\n",
            "accuracy: 93.482\n",
            "110/110 [==============================] - 0s 3ms/step\n",
            "accuracy: 93.482\n",
            "110/110 [==============================] - 0s 1ms/step\n",
            "accuracy: 6.547\n",
            "110/110 [==============================] - 0s 2ms/step\n",
            "accuracy: 93.482\n",
            "110/110 [==============================] - 0s 1ms/step\n",
            "accuracy: 93.453\n",
            "110/110 [==============================] - 0s 1ms/step\n",
            "accuracy: 93.482\n",
            "110/110 [==============================] - 0s 3ms/step\n",
            "accuracy: 75.786\n",
            "110/110 [==============================] - 0s 1ms/step\n",
            "accuracy: 6.9750000000000005\n",
            "110/110 [==============================] - 0s 1ms/step\n",
            "accuracy: 93.482\n",
            "110/110 [==============================] - 0s 3ms/step\n",
            "accuracy: 93.482\n",
            "110/110 [==============================] - 0s 3ms/step\n",
            "accuracy: 93.482\n",
            "110/110 [==============================] - 0s 3ms/step\n",
            "accuracy: 63.551\n",
            "110/110 [==============================] - 0s 2ms/step\n",
            "accuracy: 6.547\n",
            "110/110 [==============================] - 0s 1ms/step\n",
            "accuracy: 93.482\n",
            "110/110 [==============================] - 0s 3ms/step\n",
            "accuracy: 93.453\n",
            "110/110 [==============================] - 0s 3ms/step\n",
            "accuracy: 93.482\n",
            "110/110 [==============================] - 1s 5ms/step\n",
            "accuracy: 75.786\n",
            "110/110 [==============================] - 0s 4ms/step\n",
            "accuracy: 6.9750000000000005\n",
            "110/110 [==============================] - 1s 6ms/step\n",
            "accuracy: 93.482\n",
            "110/110 [==============================] - 0s 2ms/step\n",
            "accuracy: 63.551\n",
            "110/110 [==============================] - 0s 3ms/step\n",
            "accuracy: 93.482\n",
            "110/110 [==============================] - 0s 2ms/step\n",
            "accuracy: 93.482\n",
            "110/110 [==============================] - 1s 4ms/step\n",
            "accuracy: 6.547\n",
            "110/110 [==============================] - 0s 3ms/step\n",
            "accuracy: 93.482\n",
            "110/110 [==============================] - 0s 2ms/step\n",
            "accuracy: 93.482\n",
            "110/110 [==============================] - 0s 2ms/step\n",
            "accuracy: 93.482\n",
            "110/110 [==============================] - 0s 2ms/step\n",
            "accuracy: 75.786\n",
            "110/110 [==============================] - 0s 1ms/step\n",
            "accuracy: 6.9750000000000005\n",
            "110/110 [==============================] - 0s 2ms/step\n",
            "accuracy: 93.482\n",
            "110/110 [==============================] - 0s 1ms/step\n",
            "accuracy: 93.482\n",
            "110/110 [==============================] - 0s 1ms/step\n",
            "accuracy: 63.551\n",
            "110/110 [==============================] - 0s 1ms/step\n",
            "accuracy: 93.482\n",
            "110/110 [==============================] - 0s 1ms/step\n",
            "accuracy: 6.547\n",
            "110/110 [==============================] - 0s 2ms/step\n",
            "accuracy: 93.482\n",
            "110/110 [==============================] - 0s 3ms/step\n",
            "accuracy: 93.482\n",
            "110/110 [==============================] - 0s 3ms/step\n",
            "accuracy: 93.482\n",
            "110/110 [==============================] - 0s 1ms/step\n",
            "accuracy: 75.786\n",
            "110/110 [==============================] - 0s 2ms/step\n",
            "accuracy: 93.482\n",
            "110/110 [==============================] - 0s 1ms/step\n",
            "accuracy: 93.482\n",
            "110/110 [==============================] - 0s 2ms/step\n",
            "accuracy: 93.482\n",
            "110/110 [==============================] - 0s 1ms/step\n",
            "accuracy: 93.482\n",
            "110/110 [==============================] - 0s 1ms/step\n",
            "accuracy: 63.551\n",
            "110/110 [==============================] - 0s 2ms/step\n",
            "accuracy: 6.547\n",
            "110/110 [==============================] - 0s 2ms/step\n",
            "accuracy: 93.482\n",
            "110/110 [==============================] - 0s 2ms/step\n",
            "accuracy: 93.482\n",
            "110/110 [==============================] - 0s 1ms/step\n",
            "accuracy: 93.482\n",
            "110/110 [==============================] - 0s 3ms/step\n",
            "accuracy: 75.786\n",
            "110/110 [==============================] - 0s 1ms/step\n",
            "accuracy: 93.482\n",
            "110/110 [==============================] - 0s 1ms/step\n",
            "accuracy: 93.482\n",
            "110/110 [==============================] - 0s 1ms/step\n",
            "accuracy: 80.589\n",
            "110/110 [==============================] - 0s 2ms/step\n",
            "accuracy: 93.482\n",
            "110/110 [==============================] - 0s 4ms/step\n",
            "accuracy: 93.482\n",
            "110/110 [==============================] - 1s 5ms/step\n",
            "accuracy: 6.547\n",
            "110/110 [==============================] - 0s 2ms/step\n",
            "accuracy: 93.482\n",
            "110/110 [==============================] - 0s 3ms/step\n",
            "accuracy: 93.482\n",
            "110/110 [==============================] - 0s 2ms/step\n",
            "accuracy: 93.482\n",
            "110/110 [==============================] - 0s 2ms/step\n",
            "accuracy: 75.786\n",
            "110/110 [==============================] - 0s 2ms/step\n",
            "accuracy: 93.482\n",
            "110/110 [==============================] - 0s 1ms/step\n",
            "accuracy: 93.482\n",
            "110/110 [==============================] - 0s 4ms/step\n",
            "accuracy: 93.482\n",
            "110/110 [==============================] - 1s 4ms/step\n",
            "accuracy: 80.589\n",
            "110/110 [==============================] - 0s 3ms/step\n",
            "accuracy: 93.482\n",
            "110/110 [==============================] - 0s 2ms/step\n",
            "accuracy: 6.547\n",
            "110/110 [==============================] - 0s 2ms/step\n",
            "accuracy: 93.482\n",
            "110/110 [==============================] - 0s 2ms/step\n",
            "accuracy: 93.482\n",
            "110/110 [==============================] - 0s 1ms/step\n",
            "accuracy: 93.482\n",
            "110/110 [==============================] - 0s 1ms/step\n",
            "accuracy: 75.786\n",
            "110/110 [==============================] - 0s 1ms/step\n",
            "accuracy: 93.482\n",
            "110/110 [==============================] - 0s 1ms/step\n",
            "accuracy: 93.482\n",
            "110/110 [==============================] - 0s 3ms/step\n",
            "accuracy: 93.482\n",
            "110/110 [==============================] - 0s 1ms/step\n",
            "accuracy: 93.482\n",
            "110/110 [==============================] - 0s 3ms/step\n",
            "accuracy: 80.589\n",
            "110/110 [==============================] - 0s 2ms/step\n",
            "accuracy: 93.482\n",
            "110/110 [==============================] - 0s 2ms/step\n",
            "accuracy: 93.482\n",
            "110/110 [==============================] - 0s 1ms/step\n",
            "accuracy: 93.482\n",
            "110/110 [==============================] - 0s 1ms/step\n",
            "accuracy: 93.482\n",
            "110/110 [==============================] - 0s 1ms/step\n",
            "accuracy: 75.786\n",
            "110/110 [==============================] - 0s 1ms/step\n",
            "accuracy: 93.482\n",
            "110/110 [==============================] - 0s 1ms/step\n",
            "accuracy: 80.589\n",
            "110/110 [==============================] - 0s 4ms/step\n",
            "accuracy: 93.482\n",
            "110/110 [==============================] - 0s 2ms/step\n",
            "accuracy: 93.482\n",
            "110/110 [==============================] - 0s 2ms/step\n",
            "accuracy: 93.482\n",
            "110/110 [==============================] - 0s 1ms/step\n",
            "accuracy: 93.482\n",
            "110/110 [==============================] - 0s 3ms/step\n",
            "accuracy: 93.482\n",
            "110/110 [==============================] - 0s 2ms/step\n",
            "accuracy: 93.482\n",
            "110/110 [==============================] - 0s 1ms/step\n",
            "accuracy: 93.482\n",
            "110/110 [==============================] - 0s 1ms/step\n",
            "accuracy: 75.786\n",
            "110/110 [==============================] - 0s 1ms/step\n",
            "accuracy: 93.482\n",
            "110/110 [==============================] - 0s 2ms/step\n",
            "accuracy: 93.482\n",
            "110/110 [==============================] - 0s 1ms/step\n",
            "accuracy: 80.589\n",
            "110/110 [==============================] - 0s 4ms/step\n",
            "accuracy: 93.482\n",
            "110/110 [==============================] - 0s 2ms/step\n",
            "accuracy: 93.482\n",
            "110/110 [==============================] - 0s 1ms/step\n",
            "accuracy: 93.482\n",
            "110/110 [==============================] - 0s 1ms/step\n",
            "accuracy: 93.482\n",
            "110/110 [==============================] - 0s 2ms/step\n",
            "accuracy: 93.482\n",
            "110/110 [==============================] - 0s 1ms/step\n",
            "accuracy: 93.482\n",
            "110/110 [==============================] - 0s 1ms/step\n",
            "accuracy: 75.786\n",
            "110/110 [==============================] - 0s 3ms/step\n",
            "accuracy: 93.482\n",
            "110/110 [==============================] - 0s 2ms/step\n",
            "accuracy: 93.482\n",
            "110/110 [==============================] - 0s 2ms/step\n",
            "accuracy: 93.482\n",
            "110/110 [==============================] - 0s 3ms/step\n",
            "accuracy: 80.589\n",
            "110/110 [==============================] - 0s 3ms/step\n",
            "accuracy: 93.482\n",
            "110/110 [==============================] - 0s 2ms/step\n",
            "accuracy: 93.482\n",
            "110/110 [==============================] - 0s 3ms/step\n",
            "accuracy: 7.432999999999999\n",
            "110/110 [==============================] - 1s 5ms/step\n",
            "accuracy: 93.482\n",
            "110/110 [==============================] - 0s 2ms/step\n",
            "accuracy: 93.482\n",
            "110/110 [==============================] - 0s 2ms/step\n",
            "accuracy: 75.786\n",
            "110/110 [==============================] - 0s 2ms/step\n",
            "accuracy: 93.482\n",
            "110/110 [==============================] - 0s 1ms/step\n",
            "accuracy: 93.482\n",
            "110/110 [==============================] - 0s 2ms/step\n",
            "accuracy: 93.482\n",
            "110/110 [==============================] - 0s 4ms/step\n",
            "accuracy: 93.482\n",
            "110/110 [==============================] - 0s 1ms/step\n",
            "accuracy: 80.589\n",
            "110/110 [==============================] - 0s 3ms/step\n",
            "accuracy: 93.482\n",
            "110/110 [==============================] - 0s 2ms/step\n",
            "accuracy: 7.432999999999999\n",
            "110/110 [==============================] - 0s 1ms/step\n",
            "accuracy: 93.482\n",
            "110/110 [==============================] - 0s 1ms/step\n",
            "accuracy: 93.482\n",
            "110/110 [==============================] - 0s 1ms/step\n",
            "accuracy: 75.786\n",
            "110/110 [==============================] - 0s 1ms/step\n",
            "accuracy: 71.126\n",
            "110/110 [==============================] - 0s 1ms/step\n",
            "accuracy: 80.589\n",
            "110/110 [==============================] - 0s 1ms/step\n",
            "accuracy: 93.482\n",
            "110/110 [==============================] - 0s 2ms/step\n",
            "accuracy: 93.482\n",
            "110/110 [==============================] - 0s 2ms/step\n",
            "accuracy: 93.482\n",
            "110/110 [==============================] - 0s 1ms/step\n",
            "accuracy: 93.482\n",
            "110/110 [==============================] - 0s 1ms/step\n",
            "accuracy: 8.062\n",
            "110/110 [==============================] - 0s 1ms/step\n",
            "accuracy: 93.482\n",
            "110/110 [==============================] - 0s 2ms/step\n",
            "accuracy: 93.482\n",
            "110/110 [==============================] - 0s 2ms/step\n",
            "accuracy: 75.786\n",
            "110/110 [==============================] - 0s 2ms/step\n",
            "accuracy: 71.126\n",
            "110/110 [==============================] - 0s 2ms/step\n",
            "accuracy: 93.482\n",
            "110/110 [==============================] - 0s 3ms/step\n",
            "accuracy: 80.589\n",
            "110/110 [==============================] - 0s 4ms/step\n",
            "accuracy: 93.482\n",
            "110/110 [==============================] - 0s 2ms/step\n",
            "accuracy: 93.482\n",
            "110/110 [==============================] - 0s 3ms/step\n",
            "accuracy: 93.482\n",
            "110/110 [==============================] - 0s 2ms/step\n",
            "accuracy: 51.800999999999995\n",
            "110/110 [==============================] - 1s 4ms/step\n",
            "accuracy: 93.482\n",
            "110/110 [==============================] - 0s 2ms/step\n",
            "accuracy: 93.482\n",
            "110/110 [==============================] - 0s 1ms/step\n",
            "accuracy: 75.786\n",
            "110/110 [==============================] - 0s 1ms/step\n",
            "accuracy: 71.126\n",
            "110/110 [==============================] - 0s 3ms/step\n",
            "accuracy: 93.482\n",
            "110/110 [==============================] - 0s 2ms/step\n",
            "accuracy: 93.482\n",
            "110/110 [==============================] - 0s 3ms/step\n",
            "accuracy: 80.589\n",
            "110/110 [==============================] - 0s 1ms/step\n",
            "accuracy: 93.482\n",
            "110/110 [==============================] - 0s 3ms/step\n",
            "accuracy: 93.482\n",
            "110/110 [==============================] - 0s 2ms/step\n",
            "accuracy: 93.482\n",
            "110/110 [==============================] - 0s 3ms/step\n",
            "accuracy: 93.482\n",
            "110/110 [==============================] - 0s 3ms/step\n",
            "accuracy: 93.482\n",
            "110/110 [==============================] - 0s 3ms/step\n",
            "accuracy: 93.482\n",
            "110/110 [==============================] - 0s 3ms/step\n",
            "accuracy: 71.126\n",
            "110/110 [==============================] - 0s 1ms/step\n",
            "accuracy: 93.482\n",
            "110/110 [==============================] - 0s 1ms/step\n",
            "accuracy: 93.482\n",
            "110/110 [==============================] - 0s 1ms/step\n",
            "accuracy: 80.589\n",
            "110/110 [==============================] - 1s 5ms/step\n",
            "accuracy: 93.482\n",
            "110/110 [==============================] - 0s 3ms/step\n",
            "accuracy: 93.482\n",
            "110/110 [==============================] - 0s 1ms/step\n",
            "accuracy: 93.482\n",
            "110/110 [==============================] - 0s 4ms/step\n",
            "accuracy: 93.482\n",
            "110/110 [==============================] - 0s 4ms/step\n",
            "accuracy: 93.482\n",
            "110/110 [==============================] - 0s 1ms/step\n",
            "accuracy: 93.482\n",
            "110/110 [==============================] - 0s 2ms/step\n",
            "accuracy: 71.126\n",
            "110/110 [==============================] - 0s 2ms/step\n",
            "accuracy: 93.482\n",
            "110/110 [==============================] - 0s 4ms/step\n",
            "accuracy: 93.482\n",
            "110/110 [==============================] - 0s 2ms/step\n",
            "accuracy: 93.482\n",
            "110/110 [==============================] - 1s 5ms/step\n",
            "accuracy: 80.589\n",
            "110/110 [==============================] - 0s 2ms/step\n",
            "accuracy: 93.482\n",
            "110/110 [==============================] - 0s 3ms/step\n",
            "accuracy: 93.482\n",
            "110/110 [==============================] - 0s 1ms/step\n",
            "accuracy: 93.482\n",
            "110/110 [==============================] - 0s 3ms/step\n",
            "accuracy: 93.482\n",
            "110/110 [==============================] - 0s 1ms/step\n",
            "accuracy: 93.482\n",
            "110/110 [==============================] - 0s 1ms/step\n",
            "accuracy: 45.426\n",
            "110/110 [==============================] - 0s 1ms/step\n",
            "accuracy: 80.589\n",
            "110/110 [==============================] - 0s 2ms/step\n",
            "accuracy: 93.482\n",
            "110/110 [==============================] - 0s 1ms/step\n",
            "accuracy: 93.482\n",
            "110/110 [==============================] - 0s 1ms/step\n",
            "accuracy: 93.482\n",
            "110/110 [==============================] - 0s 2ms/step\n",
            "accuracy: 93.482\n",
            "110/110 [==============================] - 0s 1ms/step\n",
            "accuracy: 54.974000000000004\n",
            "110/110 [==============================] - 0s 1ms/step\n",
            "accuracy: 93.482\n",
            "110/110 [==============================] - 0s 1ms/step\n",
            "accuracy: 60.349\n",
            "110/110 [==============================] - 0s 2ms/step\n",
            "accuracy: 93.482\n",
            "110/110 [==============================] - 0s 1ms/step\n",
            "accuracy: 45.426\n",
            "110/110 [==============================] - 0s 3ms/step\n",
            "accuracy: 80.589\n",
            "110/110 [==============================] - 0s 2ms/step\n",
            "accuracy: 93.482\n",
            "110/110 [==============================] - 0s 1ms/step\n",
            "accuracy: 93.482\n",
            "110/110 [==============================] - 0s 1ms/step\n",
            "accuracy: 93.482\n",
            "110/110 [==============================] - 0s 2ms/step\n",
            "accuracy: 93.482\n",
            "110/110 [==============================] - 0s 1ms/step\n",
            "accuracy: 8.719000000000001\n",
            "110/110 [==============================] - 0s 1ms/step\n",
            "accuracy: 93.482\n",
            "110/110 [==============================] - 0s 1ms/step\n",
            "accuracy: 93.453\n",
            "110/110 [==============================] - 0s 3ms/step\n",
            "accuracy: 93.482\n",
            "110/110 [==============================] - 0s 3ms/step\n",
            "accuracy: 45.426\n",
            "110/110 [==============================] - 0s 1ms/step\n",
            "accuracy: 80.589\n",
            "110/110 [==============================] - 0s 1ms/step\n",
            "accuracy: 93.482\n",
            "110/110 [==============================] - 0s 3ms/step\n",
            "accuracy: 93.482\n",
            "110/110 [==============================] - 0s 2ms/step\n",
            "accuracy: 93.482\n"
          ]
        }
      ],
      "source": [
        "bw = ga.opti(objective_function)"
      ]
    },
    {
      "cell_type": "code",
      "execution_count": 105,
      "metadata": {},
      "outputs": [
        {
          "name": "stdout",
          "output_type": "stream",
          "text": [
            "37/37 [==============================] - 0s 2ms/step\n",
            "testcase accuracy: 93.31619537275064\n"
          ]
        }
      ],
      "source": [
        "se = conv_lin_weights_nn_weights(bw)\n",
        "model.set_weights(se)\n",
        "y_t=model.predict(X_test)\n",
        "Y_t= lc.fit_transform(y_t.flatten() > 0.5)\n",
        "print('testcase accuracy:',accuracy_score(Y_test,Y_t)*100)"
      ]
    }
  ],
  "metadata": {
    "colab": {
      "provenance": []
    },
    "kernelspec": {
      "display_name": "Python 3",
      "name": "python3"
    },
    "language_info": {
      "codemirror_mode": {
        "name": "ipython",
        "version": 3
      },
      "file_extension": ".py",
      "mimetype": "text/x-python",
      "name": "python",
      "nbconvert_exporter": "python",
      "pygments_lexer": "ipython3",
      "version": "3.11.2"
    }
  },
  "nbformat": 4,
  "nbformat_minor": 0
}
